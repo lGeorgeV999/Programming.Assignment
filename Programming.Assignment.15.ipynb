{
 "cells": [
  {
   "cell_type": "markdown",
   "id": "7b44ba98",
   "metadata": {},
   "source": [
    "**Question 1:**\n",
    "Please write a program using generator to print the numbers which can be divisible by 5 and\n",
    "7 between 0 and n in comma separated form while n is input by console.\n",
    "\n",
    "Example:\n",
    "If the following n is given as input to the program:\n",
    "100\n",
    "\n",
    "Then, the output of the program should be:\n",
    "0,35,70"
   ]
  },
  {
   "cell_type": "code",
   "execution_count": 2,
   "id": "29d0e7f9",
   "metadata": {},
   "outputs": [
    {
     "name": "stdout",
     "output_type": "stream",
     "text": [
      "Enter a number: 100\n",
      "0,35,70\n"
     ]
    }
   ],
   "source": [
    "def divisible_by_5_and_7(n):\n",
    "    for i in range(n+1):\n",
    "        if i % 5 == 0 and i % 7 == 0:\n",
    "            yield str(i)\n",
    "\n",
    "n = int(input(\"Enter a number: \"))\n",
    "result = ','.join(divisible_by_5_and_7(n))\n",
    "print(result)\n"
   ]
  },
  {
   "cell_type": "markdown",
   "id": "0f56650c",
   "metadata": {},
   "source": [
    "**Question 2:**\n",
    "    \n",
    "Please write a program using generator to print the even numbers between 0 and n in comma\n",
    "separated form while n is input by console.\n",
    "\n",
    "Example:\n",
    "If the following n is given as input to the program:\n",
    "10\n",
    "\n",
    "Then, the output of the program should be:\n",
    "0,2,4,6,8,10\n",
    "\n"
   ]
  },
  {
   "cell_type": "code",
   "execution_count": 3,
   "id": "77fd3d0a",
   "metadata": {},
   "outputs": [
    {
     "name": "stdout",
     "output_type": "stream",
     "text": [
      "Enter a number: 10\n",
      "0,2,4,6,8,10\n"
     ]
    }
   ],
   "source": [
    "def even_numbers(n):\n",
    "    for i in range(n+1):\n",
    "        if i % 2 == 0:\n",
    "            yield str(i)\n",
    "\n",
    "n = int(input(\"Enter a number: \"))\n",
    "result = ','.join(even_numbers(n))\n",
    "print(result)\n"
   ]
  },
  {
   "cell_type": "markdown",
   "id": "6a3a5aff",
   "metadata": {},
   "source": [
    "**Question 3**\n",
    "\n",
    "The Fibonacci Sequence is computed based on the following formula:\n",
    "f(n)=0 if n=0\n",
    "f(n)=1 if n=1\n",
    "f(n)=f(n-1)+f(n-2) if n&gt;1\n",
    "\n",
    "Please write a program using list comprehension to print the Fibonacci Sequence in comma\n",
    "separated form with a given n input by console.\n",
    "\n",
    "Example:\n",
    "If the following n is given as input to the program:\n",
    "7\n",
    "\n",
    "Then, the output of the program should be:\n",
    "0,1,1,2,3,5,8,13"
   ]
  },
  {
   "cell_type": "code",
   "execution_count": 8,
   "id": "083232f7",
   "metadata": {},
   "outputs": [
    {
     "name": "stdout",
     "output_type": "stream",
     "text": [
      "Enter a number: 7\n",
      "0,1,1,2,3,5,8,13\n"
     ]
    }
   ],
   "source": [
    "def fibonacci_sequence(n):\n",
    "    sequence = [0, 1]\n",
    "    [sequence.append(sequence[-1] + sequence[-2]) for _ in range(2, n+1)]\n",
    "    return sequence[:n+1]\n",
    "\n",
    "n = int(input(\"Enter a number: \"))\n",
    "result = ','.join(map(str, fibonacci_sequence(n)))\n",
    "print(result)\n"
   ]
  },
  {
   "cell_type": "markdown",
   "id": "0fb9c8d5",
   "metadata": {},
   "source": [
    "**Question 4:**\n",
    "    \n",
    "Assuming that we have some email addresses in the &quot;username@companyname.com&quot; format,\n",
    "please write program to print the user name of a given email address. Both user names and\n",
    "company names are composed of letters only.\n",
    "\n",
    "Example:\n",
    "If the following email address is given as input to the program:\n",
    "john@google.com\n",
    "Then, the output of the program should be:\n",
    "john"
   ]
  },
  {
   "cell_type": "code",
   "execution_count": 10,
   "id": "3d268f6f",
   "metadata": {},
   "outputs": [
    {
     "name": "stdout",
     "output_type": "stream",
     "text": [
      "Enter an email address: john@google.com\n",
      "john\n"
     ]
    }
   ],
   "source": [
    "def extract_username(email):\n",
    "    username = email.split('@')[0]\n",
    "    return username\n",
    "\n",
    "email = input(\"Enter an email address: \")\n",
    "username = extract_username(email)\n",
    "print(username)"
   ]
  },
  {
   "cell_type": "markdown",
   "id": "7c805256",
   "metadata": {},
   "source": [
    "**Question 5:**\n",
    "\n",
    "Define a class named Shape and its subclass Square.\n",
    "\n",
    "The Square class has an init function\n",
    "which takes a length as argument. Both classes have a area function which can print the area\n",
    "of the shape where Shape&#39;s area is 0 by default."
   ]
  },
  {
   "cell_type": "code",
   "execution_count": 13,
   "id": "5dd5e2a4",
   "metadata": {},
   "outputs": [
    {
     "name": "stdout",
     "output_type": "stream",
     "text": [
      "Enter the length of the square: 5\n",
      "Area of the square: 25.0\n"
     ]
    }
   ],
   "source": [
    "class Shape:\n",
    "    def __init__(self):\n",
    "        self.area = 0\n",
    "\n",
    "    def calculate_area(self):\n",
    "        print(\"Calculating area of the shape...\")\n",
    "        return self.area\n",
    "\n",
    "\n",
    "class Square(Shape):\n",
    "    def __init__(self, length):\n",
    "        super().__init__()  # Call the superclass's __init__() method\n",
    "        self.length = length\n",
    "\n",
    "    def calculate_area(self):\n",
    "        self.area = self.length ** 2  # Calculate the area of the square\n",
    "        return self.area\n",
    "\n",
    "\n",
    "# Create an instance of the Square class and calculate its area\n",
    "length = float(input(\"Enter the length of the square: \"))\n",
    "square = Square(length)\n",
    "area = square.calculate_area()\n",
    "print(\"Area of the square:\", area)\n"
   ]
  },
  {
   "cell_type": "code",
   "execution_count": null,
   "id": "634bae3c",
   "metadata": {},
   "outputs": [],
   "source": []
  }
 ],
 "metadata": {
  "kernelspec": {
   "display_name": "Python 3 (ipykernel)",
   "language": "python",
   "name": "python3"
  },
  "language_info": {
   "codemirror_mode": {
    "name": "ipython",
    "version": 3
   },
   "file_extension": ".py",
   "mimetype": "text/x-python",
   "name": "python",
   "nbconvert_exporter": "python",
   "pygments_lexer": "ipython3",
   "version": "3.9.12"
  }
 },
 "nbformat": 4,
 "nbformat_minor": 5
}
