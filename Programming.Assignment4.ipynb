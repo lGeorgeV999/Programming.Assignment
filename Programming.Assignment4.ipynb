{
 "cells": [
  {
   "cell_type": "markdown",
   "id": "28e4a513",
   "metadata": {},
   "source": [
    "### Q1. Write a Python Program to Find the Factorial of a Number?"
   ]
  },
  {
   "cell_type": "code",
   "execution_count": 1,
   "id": "a572729c",
   "metadata": {},
   "outputs": [
    {
     "name": "stdout",
     "output_type": "stream",
     "text": [
      "Enter a number: 9\n",
      "Factorial of 9 is 362880\n"
     ]
    }
   ],
   "source": [
    "def find_factorial(number):\n",
    "    factorial = 1\n",
    "    if number < 0:\n",
    "        print(\"Factorial is not defined for negative numbers.\")\n",
    "    elif number == 0:\n",
    "        print(\"Factorial of 0 is 1.\")\n",
    "    else:\n",
    "        for i in range(1, number + 1):\n",
    "            factorial *= i\n",
    "        print(\"Factorial of\", number, \"is\", factorial)\n",
    "\n",
    "# Taking input from the user\n",
    "number = int(input(\"Enter a number: \"))\n",
    "\n",
    "# Finding the factorial\n",
    "find_factorial(number)"
   ]
  },
  {
   "cell_type": "markdown",
   "id": "17f7e016",
   "metadata": {},
   "source": [
    "### Q2. Write a Python Program to Display the multiplication Table?"
   ]
  },
  {
   "cell_type": "code",
   "execution_count": 2,
   "id": "4f19bf67",
   "metadata": {},
   "outputs": [
    {
     "name": "stdout",
     "output_type": "stream",
     "text": [
      "Enter a number: 6\n",
      "Multiplication Table for 6\n",
      "6 x 1 = 6\n",
      "6 x 2 = 12\n",
      "6 x 3 = 18\n",
      "6 x 4 = 24\n",
      "6 x 5 = 30\n",
      "6 x 6 = 36\n",
      "6 x 7 = 42\n",
      "6 x 8 = 48\n",
      "6 x 9 = 54\n",
      "6 x 10 = 60\n"
     ]
    }
   ],
   "source": [
    "def display_multiplication_table(n):\n",
    "    print(\"Multiplication Table for\", n)\n",
    "    for i in range(1, 11):\n",
    "        print(n, \"x\", i, \"=\", n * i)\n",
    "\n",
    "# Taking input from the user\n",
    "number = int(input(\"Enter a number: \"))\n",
    "\n",
    "# Displaying the multiplication table\n",
    "display_multiplication_table(number)"
   ]
  },
  {
   "cell_type": "markdown",
   "id": "cda3017e",
   "metadata": {},
   "source": [
    "### Q3. Write a Python Program to Print the Fibonacci sequence?"
   ]
  },
  {
   "cell_type": "code",
   "execution_count": 5,
   "id": "78bb6574",
   "metadata": {},
   "outputs": [
    {
     "name": "stdout",
     "output_type": "stream",
     "text": [
      "Enter the number of terms: 5\n",
      "Fibonacci sequence up to 5 terms:\n",
      "0 1 1 2 3 "
     ]
    }
   ],
   "source": [
    "def print_fibonacci_sequence(n):\n",
    "    fibonacci_sequence = [0, 1]\n",
    "    if n <= 0:\n",
    "        print(\"Invalid input. Please enter a positive integer.\")\n",
    "    elif n == 1:\n",
    "        print(\"Fibonacci sequence up to\", n, \"term:\")\n",
    "        print(fibonacci_sequence[0])\n",
    "    elif n == 2:\n",
    "        print(\"Fibonacci sequence up to\", n, \"terms:\")\n",
    "        print(fibonacci_sequence[0], fibonacci_sequence[1])\n",
    "    else:\n",
    "        print(\"Fibonacci sequence up to\", n, \"terms:\")\n",
    "        print(fibonacci_sequence[0], fibonacci_sequence[1], end=\" \")\n",
    "        for i in range(2, n):\n",
    "            next_number = fibonacci_sequence[i - 1] + fibonacci_sequence[i - 2]\n",
    "            fibonacci_sequence.append(next_number)\n",
    "            print(next_number, end=\" \")\n",
    "\n",
    "# Taking input from the user\n",
    "terms = int(input(\"Enter the number of terms: \"))\n",
    "\n",
    "# Printing the Fibonacci sequence\n",
    "print_fibonacci_sequence(terms)\n"
   ]
  },
  {
   "cell_type": "markdown",
   "id": "37bb4793",
   "metadata": {},
   "source": [
    "### Q4. Write a Python Program to Check Armstrong Number?"
   ]
  },
  {
   "cell_type": "code",
   "execution_count": 6,
   "id": "c6afd596",
   "metadata": {},
   "outputs": [
    {
     "name": "stdout",
     "output_type": "stream",
     "text": [
      "Enter a number: 8208\n",
      "8208 is an Armstrong number.\n"
     ]
    }
   ],
   "source": [
    "def is_armstrong_number(n):\n",
    "    # Convert the number to a string to calculate the length\n",
    "    num_str = str(n)\n",
    "    # Calculate the length of the number\n",
    "    num_len = len(num_str)\n",
    "\n",
    "    # Initialize the sum variable\n",
    "    armstrong_sum = 0\n",
    "\n",
    "    # Calculate the sum of each digit raised to the power of the length\n",
    "    for digit in num_str:\n",
    "        armstrong_sum += int(digit) ** num_len\n",
    "\n",
    "    # Check if the sum is equal to the original number\n",
    "    if armstrong_sum == n:\n",
    "        return True\n",
    "    else:\n",
    "        return False\n",
    "\n",
    "# Taking input from the user\n",
    "number = int(input(\"Enter a number: \"))\n",
    "\n",
    "# Checking if the number is an Armstrong number\n",
    "if is_armstrong_number(number):\n",
    "    print(number, \"is an Armstrong number.\")\n",
    "else:\n",
    "    print(number, \"is not an Armstrong number.\")\n"
   ]
  },
  {
   "cell_type": "code",
   "execution_count": 11,
   "id": "99af89c3",
   "metadata": {},
   "outputs": [
    {
     "name": "stdout",
     "output_type": "stream",
     "text": [
      "Enter a number: 6354\n",
      "6354 is not an Armstrong number.\n"
     ]
    }
   ],
   "source": [
    "def is_armstrong_number(n):\n",
    "    # Convert the number to a string to calculate the length\n",
    "    num_str = str(n)\n",
    "    # Calculate the length of the number\n",
    "    num_len = len(num_str)\n",
    "\n",
    "    # Initialize the sum variable\n",
    "    armstrong_sum = 0\n",
    "\n",
    "    # Calculate the sum of each digit raised to the power of the length\n",
    "    for digit in num_str:\n",
    "        armstrong_sum += int(digit) ** num_len\n",
    "\n",
    "    # Check if the sum is equal to the original number\n",
    "    if armstrong_sum == n:\n",
    "        return True\n",
    "    else:\n",
    "        return False\n",
    "\n",
    "# Taking input from the user\n",
    "number = int(input(\"Enter a number: \"))\n",
    "\n",
    "# Checking if the number is an Armstrong number\n",
    "if is_armstrong_number(number):\n",
    "    print(number, \"is an Armstrong number.\")\n",
    "else:\n",
    "    print(number, \"is not an Armstrong number.\")"
   ]
  },
  {
   "cell_type": "markdown",
   "id": "52313edb",
   "metadata": {},
   "source": [
    "### Q5. Write a Python Program to Find Armstrong Number in an Interval?"
   ]
  },
  {
   "cell_type": "code",
   "execution_count": 12,
   "id": "c58a6d33",
   "metadata": {},
   "outputs": [
    {
     "name": "stdout",
     "output_type": "stream",
     "text": [
      "Enter the starting number: 6354\n",
      "Enter the ending number: 8547\n",
      "Armstrong numbers between 6354 and 8547 are:\n",
      "8208\n"
     ]
    }
   ],
   "source": [
    "def find_armstrong_numbers(start, end):\n",
    "    armstrong_numbers = []\n",
    "\n",
    "    for num in range(start, end + 1):\n",
    "        order = len(str(num))\n",
    "        armstrong_sum = 0\n",
    "\n",
    "        temp = num\n",
    "        while temp > 0:\n",
    "            digit = temp % 10\n",
    "            armstrong_sum += digit ** order\n",
    "            temp //= 10\n",
    "\n",
    "        if num == armstrong_sum:\n",
    "            armstrong_numbers.append(num)\n",
    "\n",
    "    return armstrong_numbers\n",
    "\n",
    "# Taking input from the user\n",
    "start = int(input(\"Enter the starting number: \"))\n",
    "end = int(input(\"Enter the ending number: \"))\n",
    "\n",
    "# Finding Armstrong numbers in the given interval\n",
    "armstrong_nums = find_armstrong_numbers(start, end)\n",
    "\n",
    "# Displaying the Armstrong numbers\n",
    "print(\"Armstrong numbers between\", start, \"and\", end, \"are:\")\n",
    "for num in armstrong_nums:\n",
    "    print(num)\n"
   ]
  },
  {
   "cell_type": "markdown",
   "id": "27414d6b",
   "metadata": {},
   "source": [
    "### Q6. Write a Python Program to Find the Sum of Natural Numbers?\n",
    "\n"
   ]
  },
  {
   "cell_type": "code",
   "execution_count": 14,
   "id": "4d828e61",
   "metadata": {},
   "outputs": [
    {
     "name": "stdout",
     "output_type": "stream",
     "text": [
      "Enter a positive integer: 9\n",
      "The sum of natural numbers up to 9 is: 45\n"
     ]
    }
   ],
   "source": [
    "def find_sum_of_natural_numbers(n):\n",
    "    sum = 0\n",
    "\n",
    "    for i in range(1, n + 1):\n",
    "        sum += i\n",
    "\n",
    "    return sum\n",
    "\n",
    "# Taking input from the user\n",
    "num = int(input(\"Enter a positive integer: \"))\n",
    "\n",
    "# Finding the sum of natural numbers up to the given number\n",
    "sum_of_natural_numbers = find_sum_of_natural_numbers(num)\n",
    "\n",
    "# Displaying the result\n",
    "print(\"The sum of natural numbers up to\", num, \"is:\", sum_of_natural_numbers)\n"
   ]
  },
  {
   "cell_type": "code",
   "execution_count": null,
   "id": "1f966621",
   "metadata": {},
   "outputs": [],
   "source": []
  }
 ],
 "metadata": {
  "kernelspec": {
   "display_name": "Python 3 (ipykernel)",
   "language": "python",
   "name": "python3"
  },
  "language_info": {
   "codemirror_mode": {
    "name": "ipython",
    "version": 3
   },
   "file_extension": ".py",
   "mimetype": "text/x-python",
   "name": "python",
   "nbconvert_exporter": "python",
   "pygments_lexer": "ipython3",
   "version": "3.9.12"
  }
 },
 "nbformat": 4,
 "nbformat_minor": 5
}
