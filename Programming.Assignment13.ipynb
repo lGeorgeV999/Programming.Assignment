{
 "cells": [
  {
   "cell_type": "markdown",
   "id": "782398f4",
   "metadata": {},
   "source": [
    "**Question 1:**\n",
    "\n",
    "Write a program that calculates and prints the value according to the given formula:\n",
    "Q = Square root of [(2 * C * D)/H]\n",
    "\n",
    "Following are the fixed values of C and H:\n",
    "C is 50. H is 30.\n",
    "D is the variable whose values should be input to your program in a comma-separated\n",
    "sequence.\n",
    "\n",
    "Example\n",
    "Let us assume the following comma separated input sequence is given to the program:\n",
    "100,150,180\n",
    "The output of the program should be:\n",
    "18,22,24"
   ]
  },
  {
   "cell_type": "code",
   "execution_count": 7,
   "id": "dd5d088a",
   "metadata": {},
   "outputs": [
    {
     "name": "stdout",
     "output_type": "stream",
     "text": [
      "18,22,24\n"
     ]
    }
   ],
   "source": [
    "import math\n",
    "\n",
    "def calculate_values(input_str):\n",
    "    # Fixed values of C and H\n",
    "    C = 50\n",
    "    H = 30\n",
    "\n",
    "    # Split the input sequence into individual values\n",
    "    values = input_str.split(',')\n",
    "\n",
    "    result = []\n",
    "    for value in values:\n",
    "        # Convert the value to an integer\n",
    "        D = int(value)\n",
    "        # Calculate the result using the formula\n",
    "        Q = math.sqrt((2 * C * D) / H)\n",
    "        # Round the result to the nearest integer\n",
    "        Q = round(Q)\n",
    "        # Append the result to the output list\n",
    "        result.append(str(Q))\n",
    "    # Join the output list into a comma-separated string\n",
    "    output_str = ','.join(result)\n",
    "    return output_str\n",
    "\n",
    "# Test the program\n",
    "input_sequence = \"100,150,180\"\n",
    "output_sequence = calculate_values(input_sequence)\n",
    "print(output_sequence)"
   ]
  },
  {
   "cell_type": "markdown",
   "id": "7cddf62b",
   "metadata": {},
   "source": [
    "**Question 2:**\n",
    "    \n",
    "Write a program which takes 2 digits, X,Y as input and generates a 2-dimensional array. The\n",
    "element value in the i-th row and j-th column of the array should be i*j.\n",
    "\n",
    "Note: i=0,1.., X-1; j=0,1,¡Y-1.\n",
    "\n",
    "Example\n",
    "\n",
    "Suppose the following inputs are given to the program:\n",
    "3,5\n",
    "\n",
    "Then, the output of the program should be:\n",
    "[[0, 0, 0, 0, 0], [0, 1, 2, 3, 4], [0, 2, 4, 6, 8]]"
   ]
  },
  {
   "cell_type": "code",
   "execution_count": 8,
   "id": "02ecd13d",
   "metadata": {},
   "outputs": [
    {
     "name": "stdout",
     "output_type": "stream",
     "text": [
      "[[0, 0, 0, 0, 0], [0, 1, 2, 3, 4], [0, 2, 4, 6, 8]]\n"
     ]
    }
   ],
   "source": [
    "def generate_array(x, y):\n",
    "    # Initialize an empty 2-dimensional array\n",
    "    array = []\n",
    "\n",
    "    # Iterate over the rows\n",
    "    for i in range(x):\n",
    "        row = []\n",
    "\n",
    "        # Iterate over the columns\n",
    "        for j in range(y):\n",
    "            # Calculate the element value for the current row and column\n",
    "            element = i * j\n",
    "\n",
    "            # Append the element to the row\n",
    "            row.append(element)\n",
    "\n",
    "        # Append the row to the array\n",
    "        array.append(row)\n",
    "\n",
    "    return array\n",
    "\n",
    "# Test the program\n",
    "x = 3\n",
    "y = 5\n",
    "result = generate_array(x, y)\n",
    "print(result)"
   ]
  },
  {
   "cell_type": "markdown",
   "id": "d2052cb2",
   "metadata": {},
   "source": [
    "**Question 3:**\n",
    "\n",
    "Write a program that accepts a comma separated sequence of words as input and prints the\n",
    "words in a comma-separated sequence after sorting them alphabetically.\n",
    "\n",
    "Suppose the following input is supplied to the program:\n",
    "    \n",
    "without,hello,bag,world\n",
    "Then, the output should be:\n",
    "bag,hello,without,world"
   ]
  },
  {
   "cell_type": "code",
   "execution_count": 9,
   "id": "b4723a75",
   "metadata": {},
   "outputs": [
    {
     "name": "stdout",
     "output_type": "stream",
     "text": [
      "bag,hello,without,world\n"
     ]
    }
   ],
   "source": [
    "def sort_words(sequence):\n",
    "    # Split the sequence into individual words\n",
    "    words = sequence.split(',')\n",
    "    # Sort the words alphabetically\n",
    "    sorted_words = sorted(words)\n",
    "    # Join the sorted words into a comma-separated string\n",
    "    sorted_sequence = ','.join(sorted_words)\n",
    "    return sorted_sequence\n",
    "\n",
    "# Test the program\n",
    "input_sequence = \"without,hello,bag,world\"\n",
    "output_sequence = sort_words(input_sequence)\n",
    "print(output_sequence)"
   ]
  },
  {
   "cell_type": "markdown",
   "id": "88bf6f03",
   "metadata": {},
   "source": [
    "**Question 5:**\n",
    "\n",
    "    Write a program that accepts a sentence and calculate the number of letters and digits.\n",
    "\n",
    "    Suppose the following input is supplied to the program:\n",
    "\n",
    "hello world! 123\n",
    "Then, the output should be:\n",
    "LETTERS 10\n",
    "\n",
    "DIGITS 3"
   ]
  },
  {
   "cell_type": "code",
   "execution_count": 10,
   "id": "5ce9f57f",
   "metadata": {},
   "outputs": [
    {
     "name": "stdout",
     "output_type": "stream",
     "text": [
      "LETTERS 10\n",
      "DIGITS 3\n"
     ]
    }
   ],
   "source": [
    "def count_letters_digits(sentence):\n",
    "    letters = 0\n",
    "    digits = 0\n",
    "\n",
    "    for char in sentence:\n",
    "        if char.isalpha():\n",
    "            letters += 1\n",
    "        elif char.isdigit():\n",
    "            digits += 1\n",
    "\n",
    "    return letters, digits\n",
    "\n",
    "# Test the program\n",
    "input_sentence = \"hello world! 123\"\n",
    "letter_count, digit_count = count_letters_digits(input_sentence)\n",
    "print(\"LETTERS\", letter_count)\n",
    "print(\"DIGITS\", digit_count)\n"
   ]
  },
  {
   "cell_type": "markdown",
   "id": "9457fe94",
   "metadata": {},
   "source": [
    "**Question 6:**\n",
    "\n",
    "A website requires the users to input username and password to register. Write a program to\n",
    "check the validity of password input by users.\n",
    "\n",
    "Following are the criteria for checking the password:\n",
    "\n",
    "1. At least 1 letter between [a-z]\n",
    "\n",
    "2. At least 1 number between [0-9]\n",
    "\n",
    "1. At least 1 letter between [A-Z]\n",
    "\n",
    "3. At least 1 character from [$#@]\n",
    "\n",
    "4. Minimum length of transaction password: 6\n",
    "\n",
    "5. Maximum length of transaction password: 12\n",
    "\n",
    "Your program should accept a sequence of comma separated passwords and will check them\n",
    "according to the above criteria. Passwords that match the criteria are to be printed, each\n",
    "separated by a comma.\n",
    "Example\n",
    "\n",
    "If the following passwords are given as input to the program:\n",
    "ABd1234@1,a F1#,2w3E*,2We3345\n",
    "Then, the output of the program should be:\n",
    "ABd1234@1"
   ]
  },
  {
   "cell_type": "code",
   "execution_count": 11,
   "id": "8e1c0ad4",
   "metadata": {},
   "outputs": [
    {
     "name": "stdout",
     "output_type": "stream",
     "text": [
      "ABd1234@1\n"
     ]
    }
   ],
   "source": [
    "import re\n",
    "\n",
    "def look_password(password):\n",
    "    if len(password) < 6 or len(password) > 12:\n",
    "        return False\n",
    "\n",
    "    if not re.search(r'[a-z]', password):\n",
    "        return False\n",
    "\n",
    "    if not re.search(r'[0-9]', password):\n",
    "        return False\n",
    "\n",
    "    if not re.search(r'[A-Z]', password):\n",
    "        return False\n",
    "\n",
    "    if not re.search(r'[$#@]', password):\n",
    "        return False\n",
    "\n",
    "    return True\n",
    "\n",
    "# Test the program\n",
    "input_passwords = \"ABd1234@1,aF1#,2w3E*,2We3345\"\n",
    "valid_passwords = []\n",
    "\n",
    "# Split the input passwords into individual passwords\n",
    "passwords = input_passwords.split(',')\n",
    "\n",
    "# Check the validity of each password\n",
    "for password in passwords:\n",
    "    if look_password(password):\n",
    "        valid_passwords.append(password)\n",
    "\n",
    "# Join the valid passwords into a comma-separated string\n",
    "output_passwords = ','.join(valid_passwords)\n",
    "print(output_passwords)\n"
   ]
  },
  {
   "cell_type": "code",
   "execution_count": null,
   "id": "612e7fed",
   "metadata": {},
   "outputs": [],
   "source": []
  }
 ],
 "metadata": {
  "kernelspec": {
   "display_name": "Python 3 (ipykernel)",
   "language": "python",
   "name": "python3"
  },
  "language_info": {
   "codemirror_mode": {
    "name": "ipython",
    "version": 3
   },
   "file_extension": ".py",
   "mimetype": "text/x-python",
   "name": "python",
   "nbconvert_exporter": "python",
   "pygments_lexer": "ipython3",
   "version": "3.9.12"
  }
 },
 "nbformat": 4,
 "nbformat_minor": 5
}
