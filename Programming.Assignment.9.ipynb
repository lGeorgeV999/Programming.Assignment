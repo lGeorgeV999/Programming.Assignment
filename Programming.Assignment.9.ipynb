{
 "cells": [
  {
   "cell_type": "markdown",
   "id": "2ef4f456",
   "metadata": {},
   "source": [
    "### Q1. Write a Python program to check if the given number is a Disarium Number?"
   ]
  },
  {
   "cell_type": "code",
   "execution_count": 1,
   "id": "9e3f81f8",
   "metadata": {},
   "outputs": [
    {
     "name": "stdout",
     "output_type": "stream",
     "text": [
      "Enter a number: 157\n",
      "157 is not a Disarium Number.\n"
     ]
    }
   ],
   "source": [
    "def is_disarium(number):\n",
    "    # Convert the number to string for easy manipulation\n",
    "    num_str = str(number)\n",
    "\n",
    "    # Calculate the sum of each digit raised to its respective position\n",
    "    digit_sum = sum(int(digit) ** (i + 1) for i, digit in enumerate(num_str))\n",
    "\n",
    "    # Check if the sum is equal to the original number\n",
    "    if digit_sum == number:\n",
    "        return True\n",
    "    else:\n",
    "        return False\n",
    "\n",
    "# Taking input from the user\n",
    "number = int(input(\"Enter a number: \"))\n",
    "\n",
    "# Checking if the number is a Disarium Number\n",
    "if is_disarium(number):\n",
    "    print(f\"{number} is a Disarium Number.\")\n",
    "else:\n",
    "    print(f\"{number} is not a Disarium Number.\")\n"
   ]
  },
  {
   "cell_type": "code",
   "execution_count": 3,
   "id": "c71560ca",
   "metadata": {},
   "outputs": [
    {
     "name": "stdout",
     "output_type": "stream",
     "text": [
      "Enter a number: 175\n",
      "175 is a Disarium Number.\n"
     ]
    }
   ],
   "source": [
    "def is_disarium(number):\n",
    "    # Convert the number to string for easy manipulation\n",
    "    num_str = str(number)\n",
    "\n",
    "    # Calculate the sum of each digit raised to its respective position\n",
    "    digit_sum = sum(int(digit) ** (i + 1) for i, digit in enumerate(num_str))\n",
    "\n",
    "    # Check if the sum is equal to the original number\n",
    "    if digit_sum == number:\n",
    "        return True\n",
    "    else:\n",
    "        return False\n",
    "\n",
    "# Taking input from the user\n",
    "number = int(input(\"Enter a number: \"))\n",
    "\n",
    "# Checking if the number is a Disarium Number\n",
    "if is_disarium(number):\n",
    "    print(f\"{number} is a Disarium Number.\")\n",
    "else:\n",
    "    print(f\"{number} is not a Disarium Number.\")"
   ]
  },
  {
   "cell_type": "markdown",
   "id": "dd1f47a1",
   "metadata": {},
   "source": [
    "### Q2. Write a Python program to print all disarium numbers between 1 to 100?"
   ]
  },
  {
   "cell_type": "code",
   "execution_count": 2,
   "id": "4b715e9b",
   "metadata": {},
   "outputs": [
    {
     "name": "stdout",
     "output_type": "stream",
     "text": [
      "Disarium numbers between 1 and 100:\n",
      "1\n",
      "2\n",
      "3\n",
      "4\n",
      "5\n",
      "6\n",
      "7\n",
      "8\n",
      "9\n",
      "89\n"
     ]
    }
   ],
   "source": [
    "def is_disarium(number):\n",
    "    # Convert the number to string for easy manipulation\n",
    "    num_str = str(number)\n",
    "\n",
    "    # Calculate the sum of each digit raised to its respective position\n",
    "    digit_sum = sum(int(digit) ** (i + 1) for i, digit in enumerate(num_str))\n",
    "\n",
    "    # Check if the sum is equal to the original number\n",
    "    if digit_sum == number:\n",
    "        return True\n",
    "    else:\n",
    "        return False\n",
    "\n",
    "# Define the range\n",
    "start = 1\n",
    "end = 100\n",
    "\n",
    "# Print Disarium numbers in the range\n",
    "print(\"Disarium numbers between 1 and 100:\")\n",
    "for num in range(start, end + 1):\n",
    "    if is_disarium(num):\n",
    "        print(num)"
   ]
  },
  {
   "cell_type": "markdown",
   "id": "31a34b71",
   "metadata": {},
   "source": [
    "### Q3. Write a Python program to check if the given number is Happy Number?"
   ]
  },
  {
   "cell_type": "code",
   "execution_count": 5,
   "id": "3f7d8226",
   "metadata": {},
   "outputs": [
    {
     "name": "stdout",
     "output_type": "stream",
     "text": [
      "Enter a number: 69\n",
      "69 is not a Happy Number.\n"
     ]
    }
   ],
   "source": [
    "def is_happy_number(number):\n",
    "    visited = set()  # Set to store visited numbers\n",
    "\n",
    "    while number != 1:\n",
    "        current_sum = 0\n",
    "        while number > 0:\n",
    "            digit = number % 10\n",
    "            current_sum += digit ** 2\n",
    "            number //= 10\n",
    "\n",
    "        if current_sum in visited:\n",
    "            return False\n",
    "\n",
    "        visited.add(current_sum)\n",
    "        number = current_sum\n",
    "\n",
    "    return True\n",
    "\n",
    "# Taking input from the user\n",
    "number = int(input(\"Enter a number: \"))\n",
    "\n",
    "# Checking if the number is a Happy Number\n",
    "if is_happy_number(number):\n",
    "    print(f\"{number} is a Happy Number.\")\n",
    "else:\n",
    "    print(f\"{number} is not a Happy Number.\")"
   ]
  },
  {
   "cell_type": "code",
   "execution_count": 7,
   "id": "70c96352",
   "metadata": {},
   "outputs": [
    {
     "name": "stdout",
     "output_type": "stream",
     "text": [
      "Enter a number: 82\n",
      "82 is a Happy Number.\n"
     ]
    }
   ],
   "source": [
    "def is_happy_number(number):\n",
    "    visited = set()  # Set to store visited numbers\n",
    "\n",
    "    while number != 1:\n",
    "        current_sum = 0\n",
    "        while number > 0:\n",
    "            digit = number % 10\n",
    "            current_sum += digit ** 2\n",
    "            number //= 10\n",
    "\n",
    "        if current_sum in visited:\n",
    "            return False\n",
    "\n",
    "        visited.add(current_sum)\n",
    "        number = current_sum\n",
    "\n",
    "    return True\n",
    "\n",
    "# Taking input from the user\n",
    "number = int(input(\"Enter a number: \"))\n",
    "\n",
    "# Checking if the number is a Happy Number\n",
    "if is_happy_number(number):\n",
    "    print(f\"{number} is a Happy Number.\")\n",
    "else:\n",
    "    print(f\"{number} is not a Happy Number.\")"
   ]
  },
  {
   "cell_type": "markdown",
   "id": "80ab5436",
   "metadata": {},
   "source": [
    "### Q4. Write a Python program to print all happy numbers between 1 and 100?"
   ]
  },
  {
   "cell_type": "code",
   "execution_count": 8,
   "id": "16a983e4",
   "metadata": {},
   "outputs": [
    {
     "name": "stdout",
     "output_type": "stream",
     "text": [
      "Happy numbers between 1 and 100:\n",
      "1\n",
      "7\n",
      "10\n",
      "13\n",
      "19\n",
      "23\n",
      "28\n",
      "31\n",
      "32\n",
      "44\n",
      "49\n",
      "68\n",
      "70\n",
      "79\n",
      "82\n",
      "86\n",
      "91\n",
      "94\n",
      "97\n",
      "100\n"
     ]
    }
   ],
   "source": [
    "def is_happy_number(number):\n",
    "    visited = set()  # Set to store visited numbers\n",
    "\n",
    "    while number != 1:\n",
    "        current_sum = 0\n",
    "        while number > 0:\n",
    "            digit = number % 10\n",
    "            current_sum += digit ** 2\n",
    "            number //= 10\n",
    "\n",
    "        if current_sum in visited:\n",
    "            return False\n",
    "\n",
    "        visited.add(current_sum)\n",
    "        number = current_sum\n",
    "\n",
    "    return True\n",
    "\n",
    "# Define the range\n",
    "start = 1\n",
    "end = 100\n",
    "\n",
    "# Print Happy numbers in the range\n",
    "print(\"Happy numbers between 1 and 100:\")\n",
    "for num in range(start, end + 1):\n",
    "    if is_happy_number(num):\n",
    "        print(num)\n"
   ]
  },
  {
   "cell_type": "markdown",
   "id": "c01c3e90",
   "metadata": {},
   "source": [
    "### Q5. Write a Python program to determine whether the given number is a Harshad Number?"
   ]
  },
  {
   "cell_type": "code",
   "execution_count": 9,
   "id": "5149373b",
   "metadata": {},
   "outputs": [
    {
     "name": "stdout",
     "output_type": "stream",
     "text": [
      "Enter a number: 156\n",
      "156 is a Harshad Number.\n"
     ]
    }
   ],
   "source": [
    "def is_harshad_number(number):\n",
    "    # Calculate the sum of digits\n",
    "    digit_sum = sum(int(digit) for digit in str(number))\n",
    "\n",
    "    # Check if the number is divisible by the digit sum\n",
    "    return number % digit_sum == 0\n",
    "\n",
    "# Taking input from the user\n",
    "number = int(input(\"Enter a number: \"))\n",
    "\n",
    "# Checking if the number is a Harshad Number\n",
    "if is_harshad_number(number):\n",
    "    print(f\"{number} is a Harshad Number.\")\n",
    "else:\n",
    "    print(f\"{number} is not a Harshad Number.\")\n"
   ]
  },
  {
   "cell_type": "code",
   "execution_count": 10,
   "id": "c9093fca",
   "metadata": {},
   "outputs": [
    {
     "name": "stdout",
     "output_type": "stream",
     "text": [
      "Enter a number: 69\n",
      "69 is not a Harshad Number.\n"
     ]
    }
   ],
   "source": [
    "def is_harshad_number(number):\n",
    "    # Calculate the sum of digits\n",
    "    digit_sum = sum(int(digit) for digit in str(number))\n",
    "\n",
    "    # Check if the number is divisible by the digit sum\n",
    "    return number % digit_sum == 0\n",
    "\n",
    "# Taking input from the user\n",
    "number = int(input(\"Enter a number: \"))\n",
    "\n",
    "# Checking if the number is a Harshad Number\n",
    "if is_harshad_number(number):\n",
    "    print(f\"{number} is a Harshad Number.\")\n",
    "else:\n",
    "    print(f\"{number} is not a Harshad Number.\")"
   ]
  },
  {
   "cell_type": "markdown",
   "id": "a97ec5de",
   "metadata": {},
   "source": [
    "### Q6. Write a Python program to print all pronic numbers between 1 and 100?"
   ]
  },
  {
   "cell_type": "code",
   "execution_count": 11,
   "id": "6921d556",
   "metadata": {},
   "outputs": [
    {
     "name": "stdout",
     "output_type": "stream",
     "text": [
      "Pronic numbers between 1 and 100:\n",
      "2\n",
      "6\n",
      "12\n",
      "20\n",
      "30\n",
      "42\n",
      "56\n",
      "72\n",
      "90\n"
     ]
    }
   ],
   "source": [
    "def is_pronic_number(number):\n",
    "    for i in range(1, int(number**0.5) + 1):\n",
    "        if i * (i + 1) == number:\n",
    "            return True\n",
    "    return False\n",
    "\n",
    "# Define the range\n",
    "start = 1\n",
    "end = 100\n",
    "\n",
    "# Print pronic numbers in the range\n",
    "print(\"Pronic numbers between 1 and 100:\")\n",
    "for num in range(start, end + 1):\n",
    "    if is_pronic_number(num):\n",
    "        print(num)\n"
   ]
  },
  {
   "cell_type": "code",
   "execution_count": null,
   "id": "1a8a7d26",
   "metadata": {},
   "outputs": [],
   "source": []
  }
 ],
 "metadata": {
  "kernelspec": {
   "display_name": "Python 3 (ipykernel)",
   "language": "python",
   "name": "python3"
  },
  "language_info": {
   "codemirror_mode": {
    "name": "ipython",
    "version": 3
   },
   "file_extension": ".py",
   "mimetype": "text/x-python",
   "name": "python",
   "nbconvert_exporter": "python",
   "pygments_lexer": "ipython3",
   "version": "3.9.12"
  }
 },
 "nbformat": 4,
 "nbformat_minor": 5
}
