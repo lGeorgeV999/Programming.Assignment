{
 "cells": [
  {
   "cell_type": "markdown",
   "id": "8a2e7168",
   "metadata": {},
   "source": [
    "**Q1.** Write a Python program to Extract Unique values dictionary values?"
   ]
  },
  {
   "cell_type": "code",
   "execution_count": 1,
   "id": "b519dd3e",
   "metadata": {},
   "outputs": [
    {
     "name": "stdout",
     "output_type": "stream",
     "text": [
      "[1, 2, 3]\n"
     ]
    }
   ],
   "source": [
    "def extract_unique_values(dictionary):\n",
    "    unique_values = set(dictionary.values())\n",
    "    return list(unique_values)\n",
    "\n",
    "# Testing the function with a sample dictionary\n",
    "my_dict = {'a': 1, 'b': 2, 'c': 1, 'd': 3, 'e': 2}\n",
    "unique_values = extract_unique_values(my_dict)\n",
    "print(unique_values)"
   ]
  },
  {
   "cell_type": "markdown",
   "id": "9f6ccf86",
   "metadata": {},
   "source": [
    "**Q2.** Write a Python program to find the sum of all items in a dictionary?"
   ]
  },
  {
   "cell_type": "code",
   "execution_count": 2,
   "id": "99a5fca3",
   "metadata": {},
   "outputs": [
    {
     "name": "stdout",
     "output_type": "stream",
     "text": [
      "120\n"
     ]
    }
   ],
   "source": [
    "def sum_of_dictionary_values(dictionary):\n",
    "    return sum(dictionary.values())\n",
    "\n",
    "# Test the program with an example dictionary\n",
    "example_dict = {\n",
    "    'key1': 10,\n",
    "    'key2': 20,\n",
    "    'key3': 90\n",
    "}\n",
    "\n",
    "total_sum = sum_of_dictionary_values(example_dict)\n",
    "print(total_sum)\n"
   ]
  },
  {
   "cell_type": "markdown",
   "id": "4b6e7a12",
   "metadata": {},
   "source": [
    "**Q3.** Write a Python program to Merging two Dictionaries?"
   ]
  },
  {
   "cell_type": "code",
   "execution_count": 4,
   "id": "ed221f12",
   "metadata": {},
   "outputs": [
    {
     "name": "stdout",
     "output_type": "stream",
     "text": [
      "{'a': 1, 'b': 2, 'c': 3, 'd': 4}\n"
     ]
    }
   ],
   "source": [
    "def merge_dictionaries(dict1, dict2):\n",
    "    merged_dict = {**dict1, **dict2}  # Create a new dictionary by unpacking the key-value pairs from both dictionaries\n",
    "    return merged_dict\n",
    "\n",
    "# Test the program with example dictionaries\n",
    "dict1 = {'a': 1, 'b': 2}\n",
    "dict2 = {'c': 3, 'd': 4}\n",
    "merged = merge_dictionaries(dict1, dict2)\n",
    "print(merged)\n"
   ]
  },
  {
   "cell_type": "markdown",
   "id": "2e2c760f",
   "metadata": {},
   "source": [
    "**Q4.** Write a Python program to convert key-values list to flat dictionary?"
   ]
  },
  {
   "cell_type": "code",
   "execution_count": 8,
   "id": "d00161ee",
   "metadata": {},
   "outputs": [
    {
     "name": "stdout",
     "output_type": "stream",
     "text": [
      "{'name': 'John', 'age': 30, 'city': 'New York'}\n"
     ]
    }
   ],
   "source": [
    "def convert_to_flat_dictionary(kv_list):\n",
    "    flat_dict = {}\n",
    "\n",
    "    for pair in kv_list:\n",
    "        key, value = pair\n",
    "        flat_dict[key] = value\n",
    "\n",
    "    return flat_dict\n",
    "\n",
    "# Test the program with an example list of key-value pairs\n",
    "kv_list = [(\"name\", \"John\"), (\"age\", 30), (\"city\", \"New York\")]\n",
    "flat_dict = convert_to_flat_dictionary(kv_list)\n",
    "print(flat_dict)"
   ]
  },
  {
   "cell_type": "markdown",
   "id": "4b90f3ac",
   "metadata": {},
   "source": [
    "**Q5.** Write a Python program to insertion at the beginning in OrderedDict?"
   ]
  },
  {
   "cell_type": "code",
   "execution_count": 9,
   "id": "47cc2c38",
   "metadata": {},
   "outputs": [
    {
     "name": "stdout",
     "output_type": "stream",
     "text": [
      "Original OrderedDict: OrderedDict([('a', 1), ('b', 2), ('c', 3)])\n",
      "Updated OrderedDict: OrderedDict([('x', 10), ('a', 1), ('b', 2), ('c', 3)])\n"
     ]
    }
   ],
   "source": [
    "from collections import OrderedDict\n",
    "\n",
    "def insert_at_beginning(odict, key, value):\n",
    "    odict[key] = value\n",
    "    odict.move_to_end(key, last=False)\n",
    "\n",
    "# Test the program with an example OrderedDict\n",
    "odict = OrderedDict([('a', 1), ('b', 2), ('c', 3)])\n",
    "print(\"Original OrderedDict:\", odict)\n",
    "\n",
    "# Insert a new item at the beginning\n",
    "insert_at_beginning(odict, 'x', 10)\n",
    "print(\"Updated OrderedDict:\", odict)"
   ]
  },
  {
   "cell_type": "markdown",
   "id": "4f9a5937",
   "metadata": {},
   "source": [
    "**Q6.** Write a Python program to check order of character in string using OrderedDict()?"
   ]
  },
  {
   "cell_type": "code",
   "execution_count": 10,
   "id": "68c903b7",
   "metadata": {},
   "outputs": [
    {
     "name": "stdout",
     "output_type": "stream",
     "text": [
      "True\n"
     ]
    }
   ],
   "source": [
    "from collections import OrderedDict\n",
    "\n",
    "def check_order_of_characters(string, pattern):\n",
    "    char_dict = OrderedDict()\n",
    "\n",
    "    for char in string:\n",
    "        char_dict[char] = None\n",
    "\n",
    "    pattern_length = len(pattern)\n",
    "    i = 0\n",
    "\n",
    "    for char in char_dict.keys():\n",
    "        if i >= pattern_length:\n",
    "            break\n",
    "\n",
    "        if char == pattern[i]:\n",
    "            i += 1\n",
    "\n",
    "    return i == pattern_length\n",
    "\n",
    "# Testing the program\n",
    "input_string = \"Hello World\"\n",
    "input_pattern = \"loW\"\n",
    "\n",
    "result = check_order_of_characters(input_string, input_pattern)\n",
    "print(result)\n"
   ]
  },
  {
   "cell_type": "markdown",
   "id": "dd25776f",
   "metadata": {},
   "source": [
    "**Q7.** Write a Python program to sort Python Dictionaries by Key or Value?"
   ]
  },
  {
   "cell_type": "code",
   "execution_count": 11,
   "id": "9b69bd22",
   "metadata": {},
   "outputs": [
    {
     "name": "stdout",
     "output_type": "stream",
     "text": [
      "Sorted by Key: {'a': 1, 'b': 3, 'c': 2, 'd': 4}\n",
      "Sorted by Value: {'a': 1, 'c': 2, 'b': 3, 'd': 4}\n"
     ]
    }
   ],
   "source": [
    "def sort_dictionary_by_key(dictionary):\n",
    "    sorted_dict = dict(sorted(dictionary.items(), key=lambda x: x[0]))\n",
    "    return sorted_dict\n",
    "\n",
    "def sort_dictionary_by_value(dictionary):\n",
    "    sorted_dict = dict(sorted(dictionary.items(), key=lambda x: x[1]))\n",
    "    return sorted_dict\n",
    "\n",
    "# Test the program with an example dictionary\n",
    "input_dict = {'b': 3, 'a': 1, 'd': 4, 'c': 2}\n",
    "\n",
    "# Sort the dictionary by key\n",
    "sorted_by_key = sort_dictionary_by_key(input_dict)\n",
    "print(\"Sorted by Key:\", sorted_by_key)\n",
    "\n",
    "# Sort the dictionary by value\n",
    "sorted_by_value = sort_dictionary_by_value(input_dict)\n",
    "print(\"Sorted by Value:\", sorted_by_value)\n"
   ]
  },
  {
   "cell_type": "code",
   "execution_count": null,
   "id": "9a8fcffd",
   "metadata": {},
   "outputs": [],
   "source": []
  }
 ],
 "metadata": {
  "kernelspec": {
   "display_name": "Python 3 (ipykernel)",
   "language": "python",
   "name": "python3"
  },
  "language_info": {
   "codemirror_mode": {
    "name": "ipython",
    "version": 3
   },
   "file_extension": ".py",
   "mimetype": "text/x-python",
   "name": "python",
   "nbconvert_exporter": "python",
   "pygments_lexer": "ipython3",
   "version": "3.9.12"
  }
 },
 "nbformat": 4,
 "nbformat_minor": 5
}
