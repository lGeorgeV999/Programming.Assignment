{
 "cells": [
  {
   "cell_type": "markdown",
   "id": "6d1414a1",
   "metadata": {},
   "source": [
    "### Q1. Write a Python program to find sum of elements in list?"
   ]
  },
  {
   "cell_type": "code",
   "execution_count": 1,
   "id": "aa56cef5",
   "metadata": {},
   "outputs": [
    {
     "name": "stdout",
     "output_type": "stream",
     "text": [
      "Sum of elements: 15\n"
     ]
    }
   ],
   "source": [
    "def sum_of_elements(lst):\n",
    "    # Initialize sum to 0\n",
    "    total = 0\n",
    "\n",
    "    # Iterate over each element in the list\n",
    "    for num in lst:\n",
    "        # Add the current element to the sum\n",
    "        total += num\n",
    "\n",
    "    # Return the sum\n",
    "    return total\n",
    "\n",
    "# Example usage\n",
    "my_list = [1, 2, 3, 4, 5]\n",
    "result = sum_of_elements(my_list)\n",
    "print(\"Sum of elements:\", result)\n"
   ]
  },
  {
   "cell_type": "markdown",
   "id": "0a13e922",
   "metadata": {},
   "source": [
    "### Q2. Write a Python program to Multiply all numbers in the list?"
   ]
  },
  {
   "cell_type": "code",
   "execution_count": 2,
   "id": "756f38b5",
   "metadata": {},
   "outputs": [
    {
     "name": "stdout",
     "output_type": "stream",
     "text": [
      "Product of elements: 120\n"
     ]
    }
   ],
   "source": [
    "def multiply_elements(lst):\n",
    "    # Initialize the product to 1\n",
    "    product = 1\n",
    "\n",
    "    # Iterate over each element in the list\n",
    "    for num in lst:\n",
    "        # Multiply the current element with the product\n",
    "        product *= num\n",
    "\n",
    "    # Return the product\n",
    "    return product\n",
    "\n",
    "# Example usage\n",
    "my_list = [1, 2, 3, 4, 5]\n",
    "result = multiply_elements(my_list)\n",
    "print(\"Product of elements:\", result)\n"
   ]
  },
  {
   "cell_type": "markdown",
   "id": "25239a85",
   "metadata": {},
   "source": [
    "### Q3. Write a Python program to find smallest number in a list?"
   ]
  },
  {
   "cell_type": "code",
   "execution_count": 3,
   "id": "7a7a5990",
   "metadata": {},
   "outputs": [
    {
     "name": "stdout",
     "output_type": "stream",
     "text": [
      "Smallest number: 1\n"
     ]
    }
   ],
   "source": [
    "def find_smallest(lst):\n",
    "    # Check if the list is empty\n",
    "    if len(lst) == 0:\n",
    "        return None\n",
    "\n",
    "    # Assume the first element is the smallest\n",
    "    smallest = lst[0]\n",
    "\n",
    "    # Iterate over the remaining elements in the list\n",
    "    for num in lst[1:]:\n",
    "        if num < smallest:\n",
    "            smallest = num\n",
    "\n",
    "    return smallest\n",
    "\n",
    "# Example usage\n",
    "my_list = [5, 3, 9, 1, 7]\n",
    "result = find_smallest(my_list)\n",
    "print(\"Smallest number:\", result)\n"
   ]
  },
  {
   "cell_type": "markdown",
   "id": "84689191",
   "metadata": {},
   "source": [
    "### Q4. Write a Python program to find largest number in a list?"
   ]
  },
  {
   "cell_type": "code",
   "execution_count": 5,
   "id": "b497b419",
   "metadata": {},
   "outputs": [
    {
     "name": "stdout",
     "output_type": "stream",
     "text": [
      "Largest number: 9\n"
     ]
    }
   ],
   "source": [
    "def find_largest(lst):\n",
    "    # Check if the list is empty\n",
    "    if len(lst) == 0:\n",
    "        return None\n",
    "\n",
    "    # Assume the first element is the largest\n",
    "    largest = lst[0]\n",
    "\n",
    "    # Iterate over the remaining elements in the list\n",
    "    for num in lst[1:]:\n",
    "        if num > largest:\n",
    "            largest = num\n",
    "\n",
    "    return largest\n",
    "\n",
    "# Example usage\n",
    "my_list = [5, 3, 9, 1, 7]\n",
    "result = find_largest(my_list)\n",
    "print(\"Largest number:\", result)\n"
   ]
  },
  {
   "cell_type": "markdown",
   "id": "38bae010",
   "metadata": {},
   "source": [
    "### Q5. Write a Python program to find second largest number in a list?"
   ]
  },
  {
   "cell_type": "code",
   "execution_count": 6,
   "id": "1293c55c",
   "metadata": {},
   "outputs": [
    {
     "name": "stdout",
     "output_type": "stream",
     "text": [
      "Second largest number: 7\n"
     ]
    }
   ],
   "source": [
    "def find_second_largest(lst):\n",
    "    # Check if the list has at least two elements\n",
    "    if len(lst) < 2:\n",
    "        return None\n",
    "\n",
    "    # Sort the list in descending order\n",
    "    sorted_lst = sorted(lst, reverse=True)\n",
    "\n",
    "    # Return the second element\n",
    "    return sorted_lst[1]\n",
    "\n",
    "# Example usage\n",
    "my_list = [5, 3, 9, 1, 7]\n",
    "result = find_second_largest(my_list)\n",
    "print(\"Second largest number:\", result)\n"
   ]
  },
  {
   "cell_type": "markdown",
   "id": "d277730e",
   "metadata": {},
   "source": [
    "### Q6. Write a Python program to find N largest elements from a list?"
   ]
  },
  {
   "cell_type": "code",
   "execution_count": 8,
   "id": "3152177f",
   "metadata": {},
   "outputs": [
    {
     "name": "stdout",
     "output_type": "stream",
     "text": [
      "3 largest elements: [9, 8, 7]\n"
     ]
    }
   ],
   "source": [
    "def find_n_largest(lst, n):\n",
    "    # Check if the list has enough elements\n",
    "    if len(lst) < n:\n",
    "        return None\n",
    "\n",
    "    # Sort the list in descending order\n",
    "    sorted_lst = sorted(lst, reverse=True)\n",
    "\n",
    "    # Return the first N elements\n",
    "    return sorted_lst[:n]\n",
    "\n",
    "# Example usage\n",
    "my_list = [5, 3, 9, 1, 7, 2, 8, 4]\n",
    "n = 3\n",
    "result = find_n_largest(my_list, n)\n",
    "print(f\"{n} largest elements:\", result)\n"
   ]
  },
  {
   "cell_type": "markdown",
   "id": "e56d91d3",
   "metadata": {},
   "source": [
    "### Q7. Write a Python program to print even numbers in a list?"
   ]
  },
  {
   "cell_type": "code",
   "execution_count": 9,
   "id": "7fe362ef",
   "metadata": {},
   "outputs": [
    {
     "name": "stdout",
     "output_type": "stream",
     "text": [
      "Even numbers:\n",
      "2\n",
      "4\n",
      "6\n",
      "8\n",
      "10\n"
     ]
    }
   ],
   "source": [
    "def print_even_numbers(lst):\n",
    "    # Iterate over the list\n",
    "    for num in lst:\n",
    "        # Check if the number is even\n",
    "        if num % 2 == 0:\n",
    "            print(num)\n",
    "\n",
    "# Example usage\n",
    "my_list = [1, 2, 3, 4, 5, 6, 7, 8, 9, 10]\n",
    "print(\"Even numbers:\")\n",
    "print_even_numbers(my_list)\n"
   ]
  },
  {
   "cell_type": "markdown",
   "id": "fc61dc31",
   "metadata": {},
   "source": [
    "### Q8. Write a Python program to print odd numbers in a List?"
   ]
  },
  {
   "cell_type": "code",
   "execution_count": null,
   "id": "32addb19",
   "metadata": {},
   "outputs": [],
   "source": [
    "def print_odd_numbers(lst):\n",
    "    # Iterate over the list\n",
    "    for num in lst:\n",
    "        # Check if the number is odd\n",
    "        if num % 2 != 0:\n",
    "            print(num)\n",
    "\n",
    "# Example usage\n",
    "my_list = [1, 2, 3, 4, 5, 6, 7, 8, 9, 10]\n",
    "print(\"Odd numbers:\")\n",
    "print_odd_numbers(my_list)\n"
   ]
  },
  {
   "cell_type": "markdown",
   "id": "8bcab102",
   "metadata": {},
   "source": [
    "### Q9. Write a Python program to Remove empty List from List?"
   ]
  },
  {
   "cell_type": "code",
   "execution_count": 10,
   "id": "b9a20dd2",
   "metadata": {},
   "outputs": [
    {
     "name": "stdout",
     "output_type": "stream",
     "text": [
      "Original list: [1, [], [2, 3], [], [4, 5, 6], []]\n",
      "List after removing empty lists: [1, [2, 3], [4, 5, 6]]\n"
     ]
    }
   ],
   "source": [
    "def remove_empty_lists(lst):\n",
    "    # Use list comprehension to filter out empty lists\n",
    "    return [sublst for sublst in lst if sublst]\n",
    "\n",
    "# Example usage\n",
    "my_list = [1, [], [2, 3], [], [4, 5, 6], []]\n",
    "print(\"Original list:\", my_list)\n",
    "result = remove_empty_lists(my_list)\n",
    "print(\"List after removing empty lists:\", result)\n"
   ]
  },
  {
   "cell_type": "markdown",
   "id": "2489e392",
   "metadata": {},
   "source": [
    "### Q10. Write a Python program to Cloning or Copying a list?"
   ]
  },
  {
   "cell_type": "code",
   "execution_count": 11,
   "id": "7a7dbb00",
   "metadata": {},
   "outputs": [
    {
     "name": "stdout",
     "output_type": "stream",
     "text": [
      "Original list: [1, 2, 3, 4, 5]\n",
      "Cloned list: [1, 2, 3, 4, 5]\n"
     ]
    }
   ],
   "source": [
    "def clone_list(lst):\n",
    "    # Use list slicing to create a copy of the list\n",
    "    return lst[:]\n",
    "\n",
    "# Example usage\n",
    "my_list = [1, 2, 3, 4, 5]\n",
    "print(\"Original list:\", my_list)\n",
    "cloned_list = clone_list(my_list)\n",
    "print(\"Cloned list:\", cloned_list)\n"
   ]
  },
  {
   "cell_type": "markdown",
   "id": "d5dbe25a",
   "metadata": {},
   "source": [
    "### Q11. Write a Python program to Count occurrences of an element in a list?"
   ]
  },
  {
   "cell_type": "code",
   "execution_count": 12,
   "id": "fcf28209",
   "metadata": {},
   "outputs": [
    {
     "name": "stdout",
     "output_type": "stream",
     "text": [
      "Occurrences of 2 in the list: 3\n"
     ]
    }
   ],
   "source": [
    "def count_occurrences(lst, element):\n",
    "    # Use the count() method to count occurrences of the element\n",
    "    return lst.count(element)\n",
    "\n",
    "# Example usage\n",
    "my_list = [1, 2, 3, 2, 4, 2, 5]\n",
    "element = 2\n",
    "occurrences = count_occurrences(my_list, element)\n",
    "print(\"Occurrences of\", element, \"in the list:\", occurrences)\n"
   ]
  },
  {
   "cell_type": "code",
   "execution_count": null,
   "id": "87d41f66",
   "metadata": {},
   "outputs": [],
   "source": []
  }
 ],
 "metadata": {
  "kernelspec": {
   "display_name": "Python 3 (ipykernel)",
   "language": "python",
   "name": "python3"
  },
  "language_info": {
   "codemirror_mode": {
    "name": "ipython",
    "version": 3
   },
   "file_extension": ".py",
   "mimetype": "text/x-python",
   "name": "python",
   "nbconvert_exporter": "python",
   "pygments_lexer": "ipython3",
   "version": "3.9.12"
  }
 },
 "nbformat": 4,
 "nbformat_minor": 5
}
