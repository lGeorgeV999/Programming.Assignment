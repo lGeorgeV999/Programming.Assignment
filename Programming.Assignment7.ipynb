{
 "cells": [
  {
   "cell_type": "markdown",
   "id": "946f1dd7",
   "metadata": {},
   "source": [
    "### Q1.  Write a Python Program to find sum of array?"
   ]
  },
  {
   "cell_type": "code",
   "execution_count": 5,
   "id": "99f4ba61",
   "metadata": {},
   "outputs": [
    {
     "name": "stdout",
     "output_type": "stream",
     "text": [
      "Enter the numbers in the array (space-separated): 5 4\n",
      "The sum of the array is: 9\n"
     ]
    }
   ],
   "source": [
    "def array_sum(arr):\n",
    "    sum = 0\n",
    "    for num in arr:\n",
    "        sum += num\n",
    "    return sum\n",
    "\n",
    "# Taking input from the user\n",
    "numbers = input(\"Enter the numbers in the array (space-separated): \").split()\n",
    "array = [int(num) for num in numbers]\n",
    "\n",
    "# Calculating the sum of the array\n",
    "result = array_sum(array)\n",
    "\n",
    "# Displaying the result\n",
    "print(\"The sum of the array is:\", result)\n"
   ]
  },
  {
   "cell_type": "markdown",
   "id": "8e58dcd4",
   "metadata": {},
   "source": [
    "### Q2. Write a Python Program to find largest element in an array?"
   ]
  },
  {
   "cell_type": "code",
   "execution_count": 6,
   "id": "bcbead61",
   "metadata": {},
   "outputs": [
    {
     "name": "stdout",
     "output_type": "stream",
     "text": [
      "Enter the numbers in the array (space-separated): 6 9\n",
      "The largest element in the array is: 9\n"
     ]
    }
   ],
   "source": [
    "def find_largest(arr):\n",
    "    largest = arr[0]\n",
    "    for num in arr:\n",
    "        if num > largest:\n",
    "            largest = num\n",
    "    return largest\n",
    "\n",
    "# Taking input from the user\n",
    "numbers = input(\"Enter the numbers in the array (space-separated): \").split()\n",
    "array = [int(num) for num in numbers]\n",
    "\n",
    "# Finding the largest element in the array\n",
    "result = find_largest(array)\n",
    "\n",
    "# Displaying the result\n",
    "print(\"The largest element in the array is:\", result)\n"
   ]
  },
  {
   "cell_type": "markdown",
   "id": "90d73bd0",
   "metadata": {},
   "source": [
    "### Q3. Write a Python Program for array rotation?"
   ]
  },
  {
   "cell_type": "code",
   "execution_count": 12,
   "id": "043d78f9",
   "metadata": {},
   "outputs": [
    {
     "name": "stdout",
     "output_type": "stream",
     "text": [
      "Enter the numbers in the array (space-separated): 5 4\n",
      "Enter the rotation value: 3\n",
      "The rotated array is: [4, 5]\n"
     ]
    }
   ],
   "source": [
    "def rotate_array(arr, n):\n",
    "    n = n % len(arr)  # Adjusting rotation value if it exceeds array length\n",
    "    rotated = arr[n:] + arr[:n]\n",
    "    return rotated\n",
    "\n",
    "# Taking input from the user\n",
    "numbers = input(\"Enter the numbers in the array (space-separated): \").split()\n",
    "array = [int(num) for num in numbers]\n",
    "\n",
    "rotation = int(input(\"Enter the rotation value: \"))\n",
    "\n",
    "# Rotating the array\n",
    "result = rotate_array(array, rotation)\n",
    "\n",
    "# Displaying the result\n",
    "print(\"The rotated array is:\", result)\n"
   ]
  },
  {
   "cell_type": "markdown",
   "id": "612953f6",
   "metadata": {},
   "source": [
    "### Q4. Write a Python Program to Split the array and add the first part to the end?"
   ]
  },
  {
   "cell_type": "code",
   "execution_count": 14,
   "id": "1056c5f4",
   "metadata": {},
   "outputs": [
    {
     "name": "stdout",
     "output_type": "stream",
     "text": [
      "Enter the numbers in the array (space-separated): 2 99\n",
      "Enter the split index: 3\n",
      "The split and added array is: [99, 2]\n"
     ]
    }
   ],
   "source": [
    "def split_and_add(arr, n):\n",
    "    split_index = n % len(arr)  # Adjusting split index if it exceeds array length\n",
    "    split_array = arr[split_index:] + arr[:split_index]\n",
    "    return split_array\n",
    "\n",
    "# Taking input from the user\n",
    "numbers = input(\"Enter the numbers in the array (space-separated): \").split()\n",
    "array = [int(num) for num in numbers]\n",
    "\n",
    "split_index = int(input(\"Enter the split index: \"))\n",
    "\n",
    "# Splitting the array and adding the first part to the end\n",
    "result = split_and_add(array, split_index)\n",
    "\n",
    "# Displaying the result\n",
    "print(\"The split and added array is:\", result)\n"
   ]
  },
  {
   "cell_type": "markdown",
   "id": "6f934655",
   "metadata": {},
   "source": [
    "### Q5. Write a Python Program to check if given array is Monotonic?"
   ]
  },
  {
   "cell_type": "code",
   "execution_count": 15,
   "id": "1c7bf94a",
   "metadata": {},
   "outputs": [
    {
     "name": "stdout",
     "output_type": "stream",
     "text": [
      "Enter the numbers in the array (space-separated): 6\n",
      "The given array is monotonic.\n"
     ]
    }
   ],
   "source": [
    "def is_monotonic(arr):\n",
    "    increasing = decreasing = True\n",
    "\n",
    "    for i in range(len(arr) - 1):\n",
    "        if arr[i] > arr[i + 1]:\n",
    "            increasing = False\n",
    "        if arr[i] < arr[i + 1]:\n",
    "            decreasing = False\n",
    "\n",
    "    return increasing or decreasing\n",
    "\n",
    "# Taking input from the user\n",
    "numbers = input(\"Enter the numbers in the array (space-separated): \").split()\n",
    "array = [int(num) for num in numbers]\n",
    "\n",
    "# Checking if the array is monotonic\n",
    "result = is_monotonic(array)\n",
    "\n",
    "# Displaying the result\n",
    "if result:\n",
    "    print(\"The given array is monotonic.\")\n",
    "else:\n",
    "    print(\"The given array is not monotonic.\")\n"
   ]
  },
  {
   "cell_type": "code",
   "execution_count": null,
   "id": "17ccffbd",
   "metadata": {},
   "outputs": [],
   "source": []
  }
 ],
 "metadata": {
  "kernelspec": {
   "display_name": "Python 3 (ipykernel)",
   "language": "python",
   "name": "python3"
  },
  "language_info": {
   "codemirror_mode": {
    "name": "ipython",
    "version": 3
   },
   "file_extension": ".py",
   "mimetype": "text/x-python",
   "name": "python",
   "nbconvert_exporter": "python",
   "pygments_lexer": "ipython3",
   "version": "3.9.12"
  }
 },
 "nbformat": 4,
 "nbformat_minor": 5
}
