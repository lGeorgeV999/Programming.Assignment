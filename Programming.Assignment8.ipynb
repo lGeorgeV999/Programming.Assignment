{
 "cells": [
  {
   "cell_type": "markdown",
   "id": "96cf60a6",
   "metadata": {},
   "source": [
    "### 1. Write a Python Program to Add Two Matrices?"
   ]
  },
  {
   "cell_type": "code",
   "execution_count": 1,
   "id": "2fdf5d37",
   "metadata": {},
   "outputs": [
    {
     "name": "stdout",
     "output_type": "stream",
     "text": [
      "Enter the number of rows for matrix 1: 2\n",
      "Enter the number of columns for matrix 1: 4\n",
      "Enter the elements for matrix 1:\n",
      "6\n",
      "7\n",
      "Enter the number of rows for matrix 2: 3\n",
      "Enter the number of columns for matrix 2: 4\n",
      "Enter the elements for matrix 2:\n",
      "4\n",
      "34\n",
      "4\n",
      "The matrices cannot be added. They have different dimensions.\n"
     ]
    }
   ],
   "source": [
    "def add_matrices(matrix1, matrix2):\n",
    "    rows1 = len(matrix1)\n",
    "    cols1 = len(matrix1[0])\n",
    "    rows2 = len(matrix2)\n",
    "    cols2 = len(matrix2[0])\n",
    "\n",
    "    # Check if the dimensions of the matrices are compatible for addition\n",
    "    if rows1 != rows2 or cols1 != cols2:\n",
    "        return None\n",
    "\n",
    "    # Create an empty result matrix\n",
    "    result = [[0 for _ in range(cols1)] for _ in range(rows1)]\n",
    "\n",
    "    # Perform element-wise addition of matrices\n",
    "    for i in range(rows1):\n",
    "        for j in range(cols1):\n",
    "            result[i][j] = matrix1[i][j] + matrix2[i][j]\n",
    "\n",
    "    return result\n",
    "\n",
    "# Taking input for the first matrix\n",
    "rows1 = int(input(\"Enter the number of rows for matrix 1: \"))\n",
    "cols1 = int(input(\"Enter the number of columns for matrix 1: \"))\n",
    "\n",
    "matrix1 = []\n",
    "print(\"Enter the elements for matrix 1:\")\n",
    "for i in range(rows1):\n",
    "    row = list(map(int, input().split()))\n",
    "    matrix1.append(row)\n",
    "\n",
    "# Taking input for the second matrix\n",
    "rows2 = int(input(\"Enter the number of rows for matrix 2: \"))\n",
    "cols2 = int(input(\"Enter the number of columns for matrix 2: \"))\n",
    "\n",
    "matrix2 = []\n",
    "print(\"Enter the elements for matrix 2:\")\n",
    "for i in range(rows2):\n",
    "    row = list(map(int, input().split()))\n",
    "    matrix2.append(row)\n",
    "\n",
    "# Adding the matrices\n",
    "result = add_matrices(matrix1, matrix2)\n",
    "\n",
    "# Displaying the result\n",
    "if result is None:\n",
    "    print(\"The matrices cannot be added. They have different dimensions.\")\n",
    "else:\n",
    "    print(\"The sum of the matrices is:\")\n",
    "    for row in result:\n",
    "        print(row)\n"
   ]
  },
  {
   "cell_type": "code",
   "execution_count": 2,
   "id": "bb125fdb",
   "metadata": {},
   "outputs": [
    {
     "name": "stdout",
     "output_type": "stream",
     "text": [
      "[7, 15, 4]\n",
      "[10, 12, 9]\n",
      "[11, 13, 14]\n"
     ]
    }
   ],
   "source": [
    "X = [[2,7,3],\n",
    "    [4 ,5,6],\n",
    "    [7 ,8,9]]\n",
    "\n",
    "Y = [[5,8,1],\n",
    "    [6,7,3],\n",
    "    [4,5,5]]\n",
    "\n",
    "result = [[0,0,0],\n",
    "         [0,0,0],\n",
    "         [0,0,0]]\n",
    "\n",
    "for i in range(len(X)):\n",
    "   for j in range(len(X[0])):\n",
    "       result[i][j] = X[i][j] + Y[i][j]\n",
    "\n",
    "for r in result:\n",
    "   print(r)"
   ]
  },
  {
   "cell_type": "markdown",
   "id": "38c35f80",
   "metadata": {},
   "source": [
    "### Q2. Write a Python Program to Multiply Two Matrices?"
   ]
  },
  {
   "cell_type": "code",
   "execution_count": 3,
   "id": "c1c3d9ff",
   "metadata": {},
   "outputs": [
    {
     "name": "stdout",
     "output_type": "stream",
     "text": [
      "[114, 160, 60, 27]\n",
      "[74, 97, 73, 14]\n",
      "[119, 157, 112, 23]\n"
     ]
    }
   ],
   "source": [
    "X = [[12,7,3],\n",
    "    [4 ,5,6],\n",
    "    [7 ,8,9]]\n",
    "\n",
    "Y = [[5,8,1,2],\n",
    "    [6,7,3,0],\n",
    "    [4,5,9,1]]\n",
    "\n",
    "result = [[0,0,0,0],\n",
    "         [0,0,0,0],\n",
    "         [0,0,0,0]]\n",
    "\n",
    "for i in range(len(X)):  \n",
    "   for j in range(len(Y[0])): \n",
    "       for k in range(len(Y)):\n",
    "           result[i][j] += X[i][k] * Y[k][j]\n",
    "\n",
    "for r in result:\n",
    "   print(r)"
   ]
  },
  {
   "cell_type": "markdown",
   "id": "97321a02",
   "metadata": {},
   "source": [
    "### Q3. Write a Python Program to Transpose a Matrix?"
   ]
  },
  {
   "cell_type": "code",
   "execution_count": 4,
   "id": "08bef89a",
   "metadata": {},
   "outputs": [
    {
     "name": "stdout",
     "output_type": "stream",
     "text": [
      "[12, 4, 3]\n",
      "[7, 5, 8]\n"
     ]
    }
   ],
   "source": [
    "X = [[12,7],\n",
    "    [4 ,5],\n",
    "    [3 ,8]]\n",
    "\n",
    "result = [[0,0,0],\n",
    "         [0,0,0]]\n",
    "for i in range(len(X)):\n",
    "   for j in range(len(X[0])):\n",
    "       result[j][i] = X[i][j]\n",
    "\n",
    "for r in result:\n",
    "   print(r)"
   ]
  },
  {
   "cell_type": "markdown",
   "id": "897683f2",
   "metadata": {},
   "source": [
    "### Q4. Write a Python Program to Sort Words in Alphabetic Order?"
   ]
  },
  {
   "cell_type": "code",
   "execution_count": 6,
   "id": "aff0bca4",
   "metadata": {},
   "outputs": [
    {
     "name": "stdout",
     "output_type": "stream",
     "text": [
      "Enter a string: hi folks! i am a Data Scientist.\n",
      "The sorted words are:\n",
      "a\n",
      "am\n",
      "data\n",
      "folks!\n",
      "hi\n",
      "i\n",
      "scientist.\n"
     ]
    }
   ],
   "source": [
    "my_str = input(\"Enter a string: \")\n",
    "words = [word.lower() for word in my_str.split()]\n",
    "words.sort()\n",
    "print(\"The sorted words are:\")\n",
    "for word in words:\n",
    "   print(word)"
   ]
  },
  {
   "cell_type": "markdown",
   "id": "187a1b0e",
   "metadata": {},
   "source": [
    "### Q5. Write a Python Program to Remove Punctuation From a String?"
   ]
  },
  {
   "cell_type": "code",
   "execution_count": 7,
   "id": "f3b3b6d8",
   "metadata": {},
   "outputs": [
    {
     "name": "stdout",
     "output_type": "stream",
     "text": [
      "Enter a string with punctuations : hi folks! i am a Data Scientist.\n",
      "Entered string is :  hi folks! i am a Data Scientist.\n",
      "After removing punctuations, the string is :  hi folks i am a Data Scientist\n"
     ]
    }
   ],
   "source": [
    "punctuations = '''!()-[]{};:'\"\\,<>./?@#$%^&*_~'''\n",
    "my_str = input(\"Enter a string with punctuations : \")\n",
    "print(\"Entered string is : \",my_str)\n",
    "no_punct = \"\"\n",
    "for char in my_str:\n",
    "   if char not in punctuations:\n",
    "       no_punct = no_punct + char\n",
    "print(\"After removing punctuations, the string is : \",no_punct)"
   ]
  },
  {
   "cell_type": "code",
   "execution_count": null,
   "id": "f3ae9ab7",
   "metadata": {},
   "outputs": [],
   "source": []
  }
 ],
 "metadata": {
  "kernelspec": {
   "display_name": "Python 3 (ipykernel)",
   "language": "python",
   "name": "python3"
  },
  "language_info": {
   "codemirror_mode": {
    "name": "ipython",
    "version": 3
   },
   "file_extension": ".py",
   "mimetype": "text/x-python",
   "name": "python",
   "nbconvert_exporter": "python",
   "pygments_lexer": "ipython3",
   "version": "3.9.12"
  }
 },
 "nbformat": 4,
 "nbformat_minor": 5
}
