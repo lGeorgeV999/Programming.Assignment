{
 "cells": [
  {
   "cell_type": "markdown",
   "id": "e3670c66",
   "metadata": {},
   "source": [
    "###  Q1. Write a Python program to print &quot;Hello Python&quot;?"
   ]
  },
  {
   "cell_type": "code",
   "execution_count": 1,
   "id": "78b61326",
   "metadata": {},
   "outputs": [
    {
     "name": "stdout",
     "output_type": "stream",
     "text": [
      "Hello Python\n"
     ]
    }
   ],
   "source": [
    "print(\"Hello Python\")"
   ]
  },
  {
   "cell_type": "markdown",
   "id": "ebc3f9d4",
   "metadata": {},
   "source": [
    "### Q2. Write a Python program to do arithmetical operations addition and division.?"
   ]
  },
  {
   "cell_type": "code",
   "execution_count": 2,
   "id": "4f3622d1",
   "metadata": {},
   "outputs": [
    {
     "name": "stdout",
     "output_type": "stream",
     "text": [
      "Addition: 15\n",
      "Division: 2.0\n"
     ]
    }
   ],
   "source": [
    "def addition(a, b):\n",
    "    return a + b\n",
    "\n",
    "def division(a, b):\n",
    "    if b != 0:\n",
    "        return a / b\n",
    "    else:\n",
    "        print(\"Error: Division by zero!\")\n",
    "\n",
    "# Testing the functions\n",
    "num1 = 10\n",
    "num2 = 5\n",
    "\n",
    "# Addition\n",
    "result_addition = addition(num1, num2)\n",
    "print(\"Addition:\", result_addition)\n",
    "\n",
    "# Division\n",
    "result_division = division(num1, num2)\n",
    "if result_division is not None:\n",
    "    print(\"Division:\", result_division)\n"
   ]
  },
  {
   "cell_type": "markdown",
   "id": "6ff62556",
   "metadata": {},
   "source": [
    "### Q3.  Write a Python program to find the area of a triangle?"
   ]
  },
  {
   "cell_type": "code",
   "execution_count": 3,
   "id": "d1347887",
   "metadata": {},
   "outputs": [
    {
     "name": "stdout",
     "output_type": "stream",
     "text": [
      "Enter the base length of the triangle: 5\n",
      "Enter the height of the triangle: 6\n",
      "The area of the triangle is: 15.0\n"
     ]
    }
   ],
   "source": [
    "def calculate_triangle_area(base, height):\n",
    "    area = 0.5 * base * height\n",
    "    return area\n",
    "\n",
    "# Taking input from the user\n",
    "base = float(input(\"Enter the base length of the triangle: \"))\n",
    "height = float(input(\"Enter the height of the triangle: \"))\n",
    "\n",
    "# Calculating the area of the triangle\n",
    "triangle_area = calculate_triangle_area(base, height)\n",
    "\n",
    "# Displaying the result\n",
    "print(\"The area of the triangle is:\", triangle_area)\n"
   ]
  },
  {
   "cell_type": "markdown",
   "id": "11a013ec",
   "metadata": {},
   "source": [
    "### Q4. Write a Python program to swap two variables?"
   ]
  },
  {
   "cell_type": "code",
   "execution_count": 4,
   "id": "53ad27b3",
   "metadata": {},
   "outputs": [
    {
     "name": "stdout",
     "output_type": "stream",
     "text": [
      "Enter the first number: 2\n",
      "Enter the second number: 3\n",
      "After swapping:\n",
      "First number: 3\n",
      "Second number: 2\n"
     ]
    }
   ],
   "source": [
    "def swap_variables(a, b):\n",
    "    temp = a\n",
    "    a = b\n",
    "    b = temp\n",
    "    return a, b\n",
    "\n",
    "# Taking input from the user\n",
    "num1 = int(input(\"Enter the first number: \"))\n",
    "num2 = int(input(\"Enter the second number: \"))\n",
    "\n",
    "# Swapping the variables\n",
    "num1, num2 = swap_variables(num1, num2)\n",
    "\n",
    "# Displaying the swapped values\n",
    "print(\"After swapping:\")\n",
    "print(\"First number:\", num1)\n",
    "print(\"Second number:\", num2)\n"
   ]
  },
  {
   "cell_type": "markdown",
   "id": "d27545d6",
   "metadata": {},
   "source": [
    "### Q5. Write a Python program to generate a random number?"
   ]
  },
  {
   "cell_type": "code",
   "execution_count": 6,
   "id": "49528007",
   "metadata": {},
   "outputs": [
    {
     "name": "stdout",
     "output_type": "stream",
     "text": [
      "Enter the start value: 1\n",
      "Enter the end value: 5\n",
      "Random number: 3\n"
     ]
    }
   ],
   "source": [
    "import random\n",
    "\n",
    "def generate_random_number(start, end):\n",
    "    random_number = random.randint(start, end)\n",
    "    return random_number\n",
    "\n",
    "# Taking input from the user\n",
    "start = int(input(\"Enter the start value: \"))\n",
    "end = int(input(\"Enter the end value: \"))\n",
    "\n",
    "# Generating a random number\n",
    "random_number = generate_random_number(start, end)\n",
    "\n",
    "# Displaying the random number\n",
    "print(\"Random number:\", random_number)\n"
   ]
  },
  {
   "cell_type": "code",
   "execution_count": null,
   "id": "dfe3135a",
   "metadata": {},
   "outputs": [],
   "source": []
  }
 ],
 "metadata": {
  "kernelspec": {
   "display_name": "Python 3 (ipykernel)",
   "language": "python",
   "name": "python3"
  },
  "language_info": {
   "codemirror_mode": {
    "name": "ipython",
    "version": 3
   },
   "file_extension": ".py",
   "mimetype": "text/x-python",
   "name": "python",
   "nbconvert_exporter": "python",
   "pygments_lexer": "ipython3",
   "version": "3.9.12"
  }
 },
 "nbformat": 4,
 "nbformat_minor": 5
}
