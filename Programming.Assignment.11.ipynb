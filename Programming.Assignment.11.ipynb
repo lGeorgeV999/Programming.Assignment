{
 "cells": [
  {
   "cell_type": "markdown",
   "id": "e504cb03",
   "metadata": {},
   "source": [
    "### Q1. Write a Python program to find words which are greater than given length k?"
   ]
  },
  {
   "cell_type": "code",
   "execution_count": 1,
   "id": "7fa078d2",
   "metadata": {},
   "outputs": [
    {
     "name": "stdout",
     "output_type": "stream",
     "text": [
      "Words greater than length 4 : ['quick', 'brown', 'jumps']\n"
     ]
    }
   ],
   "source": [
    "def find_long_words(string, k):\n",
    "    # Split the string into words using whitespace as the delimiter\n",
    "    words = string.split()\n",
    "\n",
    "    # Create an empty list to store the long words\n",
    "    long_words = []\n",
    "\n",
    "    # Iterate over each word in the list\n",
    "    for word in words:\n",
    "        # Check if the length of the word is greater than k\n",
    "        if len(word) > k:\n",
    "            # Add the word to the long_words list\n",
    "            long_words.append(word)\n",
    "\n",
    "    return long_words\n",
    "\n",
    "# Example usage\n",
    "text = \"The quick brown fox jumps over the lazy dog\"\n",
    "k = 4\n",
    "long_words = find_long_words(text, k)\n",
    "print(\"Words greater than length\", k, \":\", long_words)\n"
   ]
  },
  {
   "cell_type": "markdown",
   "id": "4e2f21c5",
   "metadata": {},
   "source": [
    "### Q2. Write a Python program for removing i-th character from a string?"
   ]
  },
  {
   "cell_type": "code",
   "execution_count": 1,
   "id": "e706a4e1",
   "metadata": {},
   "outputs": [
    {
     "name": "stdout",
     "output_type": "stream",
     "text": [
      "New string: Hello, orld!\n"
     ]
    }
   ],
   "source": [
    "def remove_char(string, i):\n",
    "    # Check if the index is valid\n",
    "    if i < 0 or i >= len(string):\n",
    "        print(\"Invalid index\")\n",
    "        return string\n",
    "\n",
    "    # Convert the string to a list of characters\n",
    "    char_list = list(string)\n",
    "\n",
    "    # Remove the i-th character\n",
    "    del char_list[i]\n",
    "\n",
    "    # Convert the list back to a string\n",
    "    new_string = \"\".join(char_list)\n",
    "\n",
    "    return new_string\n",
    "\n",
    "# Example usage\n",
    "text = \"Hello, World!\"\n",
    "index = 7\n",
    "new_text = remove_char(text, index)\n",
    "print(\"New string:\", new_text)\n"
   ]
  },
  {
   "cell_type": "markdown",
   "id": "a737de16",
   "metadata": {},
   "source": [
    "### Q3. Write a Python program to split and join a string?"
   ]
  },
  {
   "cell_type": "code",
   "execution_count": 2,
   "id": "47b1207c",
   "metadata": {},
   "outputs": [
    {
     "name": "stdout",
     "output_type": "stream",
     "text": [
      "New string: Hello  World!\n"
     ]
    }
   ],
   "source": [
    "def split_and_join(string, delimiter):\n",
    "    # Split the string into a list of substrings using the delimiter\n",
    "    string_list = string.split(delimiter)\n",
    "\n",
    "    # Join the substrings back into a single string using a space as the separator\n",
    "    new_string = \" \".join(string_list)\n",
    "\n",
    "    return new_string\n",
    "\n",
    "# Example usage\n",
    "text = \"Hello, World!\"\n",
    "delimiter = \",\"\n",
    "new_text = split_and_join(text, delimiter)\n",
    "print(\"New string:\", new_text)\n"
   ]
  },
  {
   "cell_type": "markdown",
   "id": "dd89b190",
   "metadata": {},
   "source": [
    "### Q4. Write a Python to check if a given string is binary string or not?"
   ]
  },
  {
   "cell_type": "code",
   "execution_count": 3,
   "id": "85b5936c",
   "metadata": {},
   "outputs": [
    {
     "name": "stdout",
     "output_type": "stream",
     "text": [
      "The string is a binary string.\n"
     ]
    }
   ],
   "source": [
    "def is_binary_string(string):\n",
    "    # Set of valid binary characters\n",
    "    binary_characters = {'0', '1'}\n",
    "\n",
    "    # Check if every character in the string is a valid binary character\n",
    "    for char in string:\n",
    "        if char not in binary_characters:\n",
    "            return False\n",
    "\n",
    "    return True\n",
    "\n",
    "# Example usage\n",
    "text = \"101010\"\n",
    "if is_binary_string(text):\n",
    "    print(\"The string is a binary string.\")\n",
    "else:\n",
    "    print(\"The string is not a binary string.\")\n"
   ]
  },
  {
   "cell_type": "markdown",
   "id": "a0b7c0be",
   "metadata": {},
   "source": [
    "### Q5. Write a Python program to find uncommon words from two Strings?"
   ]
  },
  {
   "cell_type": "code",
   "execution_count": 4,
   "id": "ffa4a253",
   "metadata": {},
   "outputs": [
    {
     "name": "stdout",
     "output_type": "stream",
     "text": [
      "Uncommon words: {'one', 'python', 'world', 'two'}\n"
     ]
    }
   ],
   "source": [
    "def find_uncommon_words(string1, string2):\n",
    "    # Split the strings into lists of words\n",
    "    words1 = string1.split()\n",
    "    words2 = string2.split()\n",
    "\n",
    "    # Convert the words to sets for efficient comparison\n",
    "    set1 = set(words1)\n",
    "    set2 = set(words2)\n",
    "\n",
    "    # Find the uncommon words by taking the symmetric difference of the sets\n",
    "    uncommon_words = set1.symmetric_difference(set2)\n",
    "\n",
    "    return uncommon_words\n",
    "\n",
    "# Example usage\n",
    "text1 = \"Hello world this is string one\"\n",
    "text2 = \"Hello python this is string two\"\n",
    "result = find_uncommon_words(text1, text2)\n",
    "print(\"Uncommon words:\", result)\n"
   ]
  },
  {
   "cell_type": "markdown",
   "id": "abd53110",
   "metadata": {},
   "source": [
    "### Q6. Write a Python to find all duplicate characters in string?"
   ]
  },
  {
   "cell_type": "code",
   "execution_count": 5,
   "id": "ca0b5db8",
   "metadata": {},
   "outputs": [
    {
     "name": "stdout",
     "output_type": "stream",
     "text": [
      "Duplicate characters: ['l', 'o']\n"
     ]
    }
   ],
   "source": [
    "def find_duplicate_characters(string):\n",
    "    # Create an empty dictionary to store character counts\n",
    "    char_count = {}\n",
    "\n",
    "    # Iterate over each character in the string\n",
    "    for char in string:\n",
    "        # Increment the count for the character\n",
    "        char_count[char] = char_count.get(char, 0) + 1\n",
    "\n",
    "    # Find the characters with count greater than 1\n",
    "    duplicate_chars = [char for char, count in char_count.items() if count > 1]\n",
    "\n",
    "    return duplicate_chars\n",
    "\n",
    "# Example usage\n",
    "text = \"Hello, World!\"\n",
    "result = find_duplicate_characters(text)\n",
    "print(\"Duplicate characters:\", result)\n"
   ]
  },
  {
   "cell_type": "markdown",
   "id": "2215ba91",
   "metadata": {},
   "source": [
    "### Q7. Write a Python Program to check if a string contains any special character?"
   ]
  },
  {
   "cell_type": "code",
   "execution_count": 6,
   "id": "58ad21f9",
   "metadata": {},
   "outputs": [
    {
     "name": "stdout",
     "output_type": "stream",
     "text": [
      "Contains special characters: True\n"
     ]
    }
   ],
   "source": [
    "import re\n",
    "\n",
    "def has_special_characters(string):\n",
    "    # Regular expression pattern to match special characters\n",
    "    pattern = r'[!@#$%^&*(),.?\":{}|<>]'\n",
    "\n",
    "    # Check if the string matches the pattern\n",
    "    if re.search(pattern, string):\n",
    "        return True\n",
    "    else:\n",
    "        return False\n",
    "\n",
    "# Example usage\n",
    "text = \"Hello, World!\"\n",
    "result = has_special_characters(text)\n",
    "print(\"Contains special characters:\", result)\n"
   ]
  },
  {
   "cell_type": "code",
   "execution_count": null,
   "id": "3b8938f9",
   "metadata": {},
   "outputs": [],
   "source": []
  }
 ],
 "metadata": {
  "kernelspec": {
   "display_name": "Python 3 (ipykernel)",
   "language": "python",
   "name": "python3"
  },
  "language_info": {
   "codemirror_mode": {
    "name": "ipython",
    "version": 3
   },
   "file_extension": ".py",
   "mimetype": "text/x-python",
   "name": "python",
   "nbconvert_exporter": "python",
   "pygments_lexer": "ipython3",
   "version": "3.9.12"
  }
 },
 "nbformat": 4,
 "nbformat_minor": 5
}
