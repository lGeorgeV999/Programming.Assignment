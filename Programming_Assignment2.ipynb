{
 "cells": [
  {
   "cell_type": "markdown",
   "id": "7aaf153a",
   "metadata": {},
   "source": [
    "### Q1. Write a Python program to convert kilometers to miles?"
   ]
  },
  {
   "cell_type": "code",
   "execution_count": 1,
   "id": "bb298ec0",
   "metadata": {},
   "outputs": [
    {
     "name": "stdout",
     "output_type": "stream",
     "text": [
      "Enter the distance in kilometers: 1500\n",
      "Distance in miles: 932.0565\n"
     ]
    }
   ],
   "source": [
    "def convert_km_to_miles(km):\n",
    "    miles = km * 0.621371\n",
    "    return miles\n",
    "\n",
    "# Taking input from the user\n",
    "kilometers = float(input(\"Enter the distance in kilometers: \"))\n",
    "\n",
    "# Converting kilometers to miles\n",
    "miles = convert_km_to_miles(kilometers)\n",
    "\n",
    "# Displaying the result\n",
    "print(\"Distance in miles:\", miles)\n"
   ]
  },
  {
   "cell_type": "markdown",
   "id": "63e42171",
   "metadata": {},
   "source": [
    "### Q2. Write a Python program to convert Celsius to Fahrenheit?"
   ]
  },
  {
   "cell_type": "code",
   "execution_count": 2,
   "id": "b7b6ed9b",
   "metadata": {},
   "outputs": [
    {
     "name": "stdout",
     "output_type": "stream",
     "text": [
      "Enter the temperature in Celsius: 18\n",
      "Temperature in Fahrenheit: 64.4\n"
     ]
    }
   ],
   "source": [
    "def convert_celsius_to_fahrenheit(celsius):\n",
    "    fahrenheit = (celsius * 9/5) + 32\n",
    "    return fahrenheit\n",
    "\n",
    "# Taking input from the user\n",
    "celsius = float(input(\"Enter the temperature in Celsius: \"))\n",
    "\n",
    "# Converting Celsius to Fahrenheit\n",
    "fahrenheit = convert_celsius_to_fahrenheit(celsius)\n",
    "\n",
    "# Displaying the result\n",
    "print(\"Temperature in Fahrenheit:\", fahrenheit)\n"
   ]
  },
  {
   "cell_type": "markdown",
   "id": "1311400e",
   "metadata": {},
   "source": [
    "### Q3. Write a Python program to display calendar?"
   ]
  },
  {
   "cell_type": "code",
   "execution_count": 4,
   "id": "aea30d23",
   "metadata": {},
   "outputs": [
    {
     "name": "stdout",
     "output_type": "stream",
     "text": [
      "Enter the year: 1997\n",
      "Enter the month: 4\n",
      "     April 1997\n",
      "Mo Tu We Th Fr Sa Su\n",
      "    1  2  3  4  5  6\n",
      " 7  8  9 10 11 12 13\n",
      "14 15 16 17 18 19 20\n",
      "21 22 23 24 25 26 27\n",
      "28 29 30\n",
      "\n"
     ]
    }
   ],
   "source": [
    "import calendar\n",
    "\n",
    "# Taking input from the user\n",
    "year = int(input(\"Enter the year: \"))\n",
    "month = int(input(\"Enter the month: \"))\n",
    "\n",
    "# Displaying the calendar\n",
    "print(calendar.month(year, month))"
   ]
  },
  {
   "cell_type": "markdown",
   "id": "4126487c",
   "metadata": {},
   "source": [
    "### Q4. Write a Python program to solve quadratic equation?"
   ]
  },
  {
   "cell_type": "code",
   "execution_count": 5,
   "id": "a080da7b",
   "metadata": {},
   "outputs": [
    {
     "name": "stdout",
     "output_type": "stream",
     "text": [
      "Enter the coefficient a: 4\n",
      "Enter the coefficient b: 2\n",
      "Enter the coefficient c: 4\n",
      "The solutions are:\n",
      "Solution 1: (-0.25+0.9682458365518543j)\n",
      "Solution 2: (-0.25-0.9682458365518543j)\n"
     ]
    }
   ],
   "source": [
    "import cmath\n",
    "\n",
    "def solve_quadratic_equation(a, b, c):\n",
    "    # Calculate the discriminant\n",
    "    discriminant = (b**2) - (4*a*c)\n",
    "\n",
    "    # Find two solutions\n",
    "    solution1 = (-b + cmath.sqrt(discriminant)) / (2*a)\n",
    "    solution2 = (-b - cmath.sqrt(discriminant)) / (2*a)\n",
    "\n",
    "    return solution1, solution2\n",
    "\n",
    "# Taking input from the user\n",
    "a = float(input(\"Enter the coefficient a: \"))\n",
    "b = float(input(\"Enter the coefficient b: \"))\n",
    "c = float(input(\"Enter the coefficient c: \"))\n",
    "\n",
    "# Solving the quadratic equation\n",
    "solution1, solution2 = solve_quadratic_equation(a, b, c)\n",
    "\n",
    "# Displaying the solutions\n",
    "print(\"The solutions are:\")\n",
    "print(\"Solution 1:\", solution1)\n",
    "print(\"Solution 2:\", solution2)"
   ]
  },
  {
   "cell_type": "markdown",
   "id": "b1465e52",
   "metadata": {},
   "source": [
    "### Q5. Write a Python program to swap two variables without temp variable?"
   ]
  },
  {
   "cell_type": "code",
   "execution_count": 8,
   "id": "601a5445",
   "metadata": {},
   "outputs": [
    {
     "name": "stdout",
     "output_type": "stream",
     "text": [
      "Enter first number: 5\n",
      "Enter second number: 4\n",
      "Before swapping values of a and b are : 5 and 4\n",
      "After swapping values of a and b are : 4 and 5\n"
     ]
    }
   ],
   "source": [
    "a = int(input(\"Enter first number: \"))\n",
    "b = int(input(\"Enter second number: \"))\n",
    "print(\"Before swapping values of a and b are : {0} and {1}\".format(a,b))\n",
    "a,b = b,a\n",
    "print(\"After swapping values of a and b are : {0} and {1}\".format(a,b))"
   ]
  },
  {
   "cell_type": "code",
   "execution_count": null,
   "id": "5d1aec19",
   "metadata": {},
   "outputs": [],
   "source": []
  }
 ],
 "metadata": {
  "kernelspec": {
   "display_name": "Python 3 (ipykernel)",
   "language": "python",
   "name": "python3"
  },
  "language_info": {
   "codemirror_mode": {
    "name": "ipython",
    "version": 3
   },
   "file_extension": ".py",
   "mimetype": "text/x-python",
   "name": "python",
   "nbconvert_exporter": "python",
   "pygments_lexer": "ipython3",
   "version": "3.9.12"
  }
 },
 "nbformat": 4,
 "nbformat_minor": 5
}
